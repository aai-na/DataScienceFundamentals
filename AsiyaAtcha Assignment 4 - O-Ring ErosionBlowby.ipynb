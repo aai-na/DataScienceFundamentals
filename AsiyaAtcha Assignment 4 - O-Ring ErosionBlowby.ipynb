{
 "cells": [
  {
   "cell_type": "code",
   "execution_count": 1,
   "metadata": {},
   "outputs": [
    {
     "name": "stderr",
     "output_type": "stream",
     "text": [
      "C:\\Users\\Asiya\\AppData\\Local\\Continuum\\anaconda3\\lib\\site-packages\\statsmodels\\compat\\pandas.py:56: FutureWarning: The pandas.core.datetools module is deprecated and will be removed in a future version. Please use the pandas.tseries module instead.\n",
      "  from pandas.core import datetools\n"
     ]
    }
   ],
   "source": [
    "import numpy as np\n",
    "import pandas as pd\n",
    "from pandas import DataFrame, Series\n",
    "import statsmodels.api as sm\n",
    "#from statsmodels.api import add_constant\n",
    "from sklearn.linear_model import LinearRegression\n",
    "import scipy, scipy.stats\n",
    "from matplotlib.pyplot import scatter, xlabel, ylabel, savefig\n",
    "% matplotlib inline"
   ]
  },
  {
   "cell_type": "code",
   "execution_count": 2,
   "metadata": {
    "scrolled": true
   },
   "outputs": [
    {
     "data": {
      "text/html": [
       "<div>\n",
       "<style>\n",
       "    .dataframe thead tr:only-child th {\n",
       "        text-align: right;\n",
       "    }\n",
       "\n",
       "    .dataframe thead th {\n",
       "        text-align: left;\n",
       "    }\n",
       "\n",
       "    .dataframe tbody tr th {\n",
       "        vertical-align: top;\n",
       "    }\n",
       "</style>\n",
       "<table border=\"1\" class=\"dataframe\">\n",
       "  <thead>\n",
       "    <tr style=\"text-align: right;\">\n",
       "      <th></th>\n",
       "      <th>0</th>\n",
       "      <th>1</th>\n",
       "      <th>2</th>\n",
       "      <th>3</th>\n",
       "      <th>4</th>\n",
       "    </tr>\n",
       "  </thead>\n",
       "  <tbody>\n",
       "    <tr>\n",
       "      <th>0</th>\n",
       "      <td>6</td>\n",
       "      <td>0</td>\n",
       "      <td>66</td>\n",
       "      <td>50</td>\n",
       "      <td>1</td>\n",
       "    </tr>\n",
       "    <tr>\n",
       "      <th>1</th>\n",
       "      <td>6</td>\n",
       "      <td>1</td>\n",
       "      <td>70</td>\n",
       "      <td>50</td>\n",
       "      <td>2</td>\n",
       "    </tr>\n",
       "    <tr>\n",
       "      <th>2</th>\n",
       "      <td>6</td>\n",
       "      <td>0</td>\n",
       "      <td>69</td>\n",
       "      <td>50</td>\n",
       "      <td>3</td>\n",
       "    </tr>\n",
       "    <tr>\n",
       "      <th>3</th>\n",
       "      <td>6</td>\n",
       "      <td>0</td>\n",
       "      <td>68</td>\n",
       "      <td>50</td>\n",
       "      <td>4</td>\n",
       "    </tr>\n",
       "    <tr>\n",
       "      <th>4</th>\n",
       "      <td>6</td>\n",
       "      <td>0</td>\n",
       "      <td>67</td>\n",
       "      <td>50</td>\n",
       "      <td>5</td>\n",
       "    </tr>\n",
       "  </tbody>\n",
       "</table>\n",
       "</div>"
      ],
      "text/plain": [
       "   0  1   2   3  4\n",
       "0  6  0  66  50  1\n",
       "1  6  1  70  50  2\n",
       "2  6  0  69  50  3\n",
       "3  6  0  68  50  4\n",
       "4  6  0  67  50  5"
      ]
     },
     "execution_count": 2,
     "metadata": {},
     "output_type": "execute_result"
    }
   ],
   "source": [
    "df_oring = pd.read_csv('oring.csv', header=None)\n",
    "df_oring.head(5)"
   ]
  },
  {
   "cell_type": "code",
   "execution_count": 3,
   "metadata": {
    "collapsed": true
   },
   "outputs": [],
   "source": [
    "df_oring.columns = [\"TotalO-Rings\", \"NumDistressed\", \"LaunchTemp\", \"PSI\", \"Flight #\"]"
   ]
  },
  {
   "cell_type": "code",
   "execution_count": 4,
   "metadata": {},
   "outputs": [
    {
     "data": {
      "text/html": [
       "<div>\n",
       "<style>\n",
       "    .dataframe thead tr:only-child th {\n",
       "        text-align: right;\n",
       "    }\n",
       "\n",
       "    .dataframe thead th {\n",
       "        text-align: left;\n",
       "    }\n",
       "\n",
       "    .dataframe tbody tr th {\n",
       "        vertical-align: top;\n",
       "    }\n",
       "</style>\n",
       "<table border=\"1\" class=\"dataframe\">\n",
       "  <thead>\n",
       "    <tr style=\"text-align: right;\">\n",
       "      <th></th>\n",
       "      <th>TotalO-Rings</th>\n",
       "      <th>NumDistressed</th>\n",
       "      <th>LaunchTemp</th>\n",
       "      <th>PSI</th>\n",
       "      <th>Flight #</th>\n",
       "    </tr>\n",
       "  </thead>\n",
       "  <tbody>\n",
       "    <tr>\n",
       "      <th>0</th>\n",
       "      <td>6</td>\n",
       "      <td>0</td>\n",
       "      <td>66</td>\n",
       "      <td>50</td>\n",
       "      <td>1</td>\n",
       "    </tr>\n",
       "    <tr>\n",
       "      <th>1</th>\n",
       "      <td>6</td>\n",
       "      <td>1</td>\n",
       "      <td>70</td>\n",
       "      <td>50</td>\n",
       "      <td>2</td>\n",
       "    </tr>\n",
       "    <tr>\n",
       "      <th>2</th>\n",
       "      <td>6</td>\n",
       "      <td>0</td>\n",
       "      <td>69</td>\n",
       "      <td>50</td>\n",
       "      <td>3</td>\n",
       "    </tr>\n",
       "    <tr>\n",
       "      <th>3</th>\n",
       "      <td>6</td>\n",
       "      <td>0</td>\n",
       "      <td>68</td>\n",
       "      <td>50</td>\n",
       "      <td>4</td>\n",
       "    </tr>\n",
       "    <tr>\n",
       "      <th>4</th>\n",
       "      <td>6</td>\n",
       "      <td>0</td>\n",
       "      <td>67</td>\n",
       "      <td>50</td>\n",
       "      <td>5</td>\n",
       "    </tr>\n",
       "  </tbody>\n",
       "</table>\n",
       "</div>"
      ],
      "text/plain": [
       "   TotalO-Rings  NumDistressed  LaunchTemp  PSI  Flight #\n",
       "0             6              0          66   50         1\n",
       "1             6              1          70   50         2\n",
       "2             6              0          69   50         3\n",
       "3             6              0          68   50         4\n",
       "4             6              0          67   50         5"
      ]
     },
     "execution_count": 4,
     "metadata": {},
     "output_type": "execute_result"
    }
   ],
   "source": [
    "df_oring.head(5)"
   ]
  },
  {
   "cell_type": "code",
   "execution_count": 5,
   "metadata": {},
   "outputs": [
    {
     "data": {
      "image/png": "[encoded data removed]",
      "text/plain": [
       "<matplotlib.figure.Figure at 0x1a31de6deb8>"
      ]
     },
     "metadata": {},
     "output_type": "display_data"
    }
   ],
   "source": [
    "scatter( df_oring.LaunchTemp, df_oring.NumDistressed,\n",
    "         marker='o',\n",
    "         edgecolor='b',\n",
    "         facecolor='none',\n",
    "         alpha=0.85 )\n",
    "xlabel('LaunchTemp')\n",
    "ylabel('NumDistressed')\n",
    "savefig('DistressedOrings_v_Launch.png', fmt='png', dpi=100)"
   ]
  },
  {
   "cell_type": "code",
   "execution_count": 8,
   "metadata": {},
   "outputs": [
    {
     "name": "stdout",
     "output_type": "stream",
     "text": [
      "                            OLS Regression Results                            \n",
      "==============================================================================\n",
      "Dep. Variable:          NumDistressed   R-squared:                       0.354\n",
      "Model:                            OLS   Adj. R-squared:                  0.290\n",
      "Method:                 Least Squares   F-statistic:                     5.490\n",
      "Date:                Fri, 06 Apr 2018   Prob (F-statistic):             0.0126\n",
      "Time:                        11:52:26   Log-Likelihood:                -17.408\n",
      "No. Observations:                  23   AIC:                             40.82\n",
      "Df Residuals:                      20   BIC:                             44.22\n",
      "Df Model:                           2                                         \n",
      "Covariance Type:            nonrobust                                         \n",
      "==============================================================================\n",
      "                 coef    std err          t      P>|t|      [0.025      0.975]\n",
      "------------------------------------------------------------------------------\n",
      "const          3.3298      1.188      2.803      0.011       0.851       5.808\n",
      "LaunchTemp    -0.0487      0.017     -2.910      0.009      -0.084      -0.014\n",
      "PSI            0.0029      0.002      1.699      0.105      -0.001       0.007\n",
      "==============================================================================\n",
      "Omnibus:                       19.324   Durbin-Watson:                   2.390\n",
      "Prob(Omnibus):                  0.000   Jarque-Bera (JB):               23.471\n",
      "Skew:                           1.782   Prob(JB):                     8.00e-06\n",
      "Kurtosis:                       6.433   Cond. No.                     1.84e+03\n",
      "==============================================================================\n",
      "\n",
      "Warnings:\n",
      "[1] Standard Errors assume that the covariance matrix of the errors is correctly specified.\n",
      "[2] The condition number is large, 1.84e+03. This might indicate that there are\n",
      "strong multicollinearity or other numerical problems.\n"
     ]
    }
   ],
   "source": [
    "df_oring['Eins'] = np.ones(( len(df_oring), ))\n",
    "\n",
    "x = df_oring[['LaunchTemp', 'PSI']]\n",
    "y = df_oring.NumDistressed\n",
    "x = sm.add_constant(x)\n",
    "model = sm.OLS(y, x)\n",
    "results = model.fit()\n",
    "print(results.summary())\n"
   ]
  },
  {
   "cell_type": "code",
   "execution_count": 21,
   "metadata": {},
   "outputs": [
    {
     "name": "stdout",
     "output_type": "stream",
     "text": [
      "The number of O-rings predicted to be in distress at 31F and 0 PSI is  1.8201\n",
      "The number of O-rings predicted to be in distress at 31F and 50 PSI is  1.9651\n",
      "The number of O-rings predicted to be in distress at 31F and 100 PSI is  2.1101\n",
      "The number of O-rings predicted to be in distress at 31F and 200 PSI is  2.4001\n"
     ]
    }
   ],
   "source": [
    "ring_distress0 = 3.3298 - 31 * 0.0487 + 0 * 0.0029\n",
    "print (\"The number of O-rings predicted to be in distress at 31F and 0 PSI is \", ring_distress0)\n",
    "ring_distress50 = 3.3298 - 31 * 0.0487 + 50 * 0.0029\n",
    "print (\"The number of O-rings predicted to be in distress at 31F and 50 PSI is \", ring_distress50)\n",
    "ring_distress100 = 3.3298 - 31 * 0.0487 + 100 * 0.0029\n",
    "print (\"The number of O-rings predicted to be in distress at 31F and 100 PSI is \", ring_distress100)\n",
    "ring_distress200 = 3.3298 - 31 * 0.0487 + 200 * 0.0029\n",
    "print (\"The number of O-rings predicted to be in distress at 31F and 200 PSI is \",  ring_distress200)"
   ]
  },
  {
   "cell_type": "code",
   "execution_count": null,
   "metadata": {
    "collapsed": true
   },
   "outputs": [],
   "source": []
  }
 ],
 "metadata": {
  "kernelspec": {
   "display_name": "Python 3",
   "language": "python",
   "name": "python3"
  },
  "language_info": {
   "codemirror_mode": {
    "name": "ipython",
    "version": 3
   },
   "file_extension": ".py",
   "mimetype": "text/x-python",
   "name": "python",
   "nbconvert_exporter": "python",
   "pygments_lexer": "ipython3",
   "version": "3.6.3"
  }
 },
 "nbformat": 4,
 "nbformat_minor": 2
}
