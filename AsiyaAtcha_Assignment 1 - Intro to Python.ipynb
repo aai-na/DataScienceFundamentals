{
 "cells": [
  {
   "cell_type": "markdown",
   "metadata": {},
   "source": [
    "## Assignment 1 - Intro to Python"
   ]
  },
  {
   "cell_type": "markdown",
   "metadata": {},
   "source": [
    "### Part 1 - Loops and Lists"
   ]
  },
  {
   "cell_type": "markdown",
   "metadata": {},
   "source": [
    "<b>1.1.</b> Write a for-loop which will read a list of any kind and print out each item in a list on a separate line. For example, if you start with the list of fruits:\n",
    "fruits = ['apples', 'oranges', 'pears', 'apricots'], \n",
    "the output of the code can be:<br>\n",
    "     <i>a fruit of type: apples</i><br>\n",
    "     <i>a fruit of type: oranges</i><br>\n",
    "     etc.\n",
    "     \n",
    "The code should work with a list of any length and any type of list, i.e. strings, integers, other lists.\n",
    "Test your code with at least 2 different types of lists."
   ]
  },
  {
   "cell_type": "code",
   "execution_count": 10,
   "metadata": {},
   "outputs": [
    {
     "name": "stdout",
     "output_type": "stream",
     "text": [
      "a fruit of type: apples\n",
      "a fruit of type: oranges\n",
      "a fruit of type: pears\n",
      "a fruit of type: bananas\n",
      "\n",
      "a vegetable of type: carrots\n",
      "a vegetable of type: zucchini\n",
      "a vegetable of type: potato\n",
      "a vegetable of type: broccoli\n",
      "\n",
      "the PLU is: 4098\n",
      "the PLU is: 3110\n",
      "the PLU is: 4025\n",
      "the PLU is: 4011\n"
     ]
    }
   ],
   "source": [
    "# Type your code here\n",
    "\n",
    "li1 = ['apples','oranges','pears','bananas']\n",
    "\n",
    "for i in li1:\n",
    "    print('a fruit of type:', i)\n",
    "    \n",
    "print ('')\n",
    "    \n",
    "    \n",
    "li2 = ['carrots','zucchini','potato','broccoli']\n",
    "\n",
    "for i in li2:\n",
    "    print('a vegetable of type:', i)\n",
    "\n",
    "print('')\n",
    "    \n",
    "li3 = ['4098', '3110', '4025', '4011' ]\n",
    "\n",
    "for i in li3:\n",
    "    print ('the PLU is:', i)"
   ]
  },
  {
   "cell_type": "markdown",
   "metadata": {},
   "source": [
    "<b>1.2.</b> Start with an empty list and generate a list of integers from 0 to 5, reverse the list and print it out. Explain how you reversed the list."
   ]
  },
  {
   "cell_type": "code",
   "execution_count": 16,
   "metadata": {},
   "outputs": [
    {
     "data": {
      "text/plain": [
       "[0, 1, 2, 3, 4, 5]"
      ]
     },
     "execution_count": 16,
     "metadata": {},
     "output_type": "execute_result"
    }
   ],
   "source": [
    "# Write your code here\n",
    "# Hint: there are multiple ways to create a list of integers. If you are to create it by starting with an empty list\n",
    "# and adding one integer to a list at a time, you can use function append().\n",
    "\n",
    "li4 = [] ## creates empty list\n",
    "\n",
    "li4.append(0) ## each instance of the append method opens a container, numbers it starting from \"0\" and inserts my integer\n",
    "li4.append(1) ## opens container numbered \"1\", inserts integer...\n",
    "li4.append(2) ## ...numbered \"2\"...\n",
    "li4.append(3) ## ...numbered \"3\"...\n",
    "li4.append(4) ## ...to the end...\n",
    "li4.append(5)\n",
    "\n",
    "li4"
   ]
  },
  {
   "cell_type": "code",
   "execution_count": 17,
   "metadata": {},
   "outputs": [],
   "source": [
    "li4.reverse()\n",
    "## this method will reverse the order of the integers but keep the containers \n",
    "## numbered as they are, so integer \"5\" will go to container 0, and 4 into 1, 3 into 2, \n",
    "## and so on"
   ]
  },
  {
   "cell_type": "code",
   "execution_count": 18,
   "metadata": {},
   "outputs": [
    {
     "data": {
      "text/plain": [
       "[5, 4, 3, 2, 1, 0]"
      ]
     },
     "execution_count": 18,
     "metadata": {},
     "output_type": "execute_result"
    }
   ],
   "source": [
    "li4"
   ]
  },
  {
   "cell_type": "markdown",
   "metadata": {},
   "source": [
    "### Part 2 - Dictionaries"
   ]
  },
  {
   "cell_type": "markdown",
   "metadata": {},
   "source": [
    "Create two dictionaries, <i><b>provinces</b></i> and <i><b>capitals</b></i>. \n",
    "\n",
    "Dictionary <i><b>provinces</b></i> will use province names as a key and province abbreviation as a value (2-3 provinces). \n",
    "Dictionary <i><b>capitals</b></i> will use province abbreviation as a key and a capital name as a value (2-3 of corresponding capitals).\n",
    "\n",
    "Print out all combinations of the province names and the corresponding capitals. An example of the output:<br>\n",
    "<i>The capital of Alberta is Edmonton </i><br>\n",
    "<i>The capital of British Columbia is Victoria</i><br>\n",
    "\n",
    "Add 2-3 provinces and corresponding capitals to your dictionaries. Print out the resulting list of province/capital combinations.\n"
   ]
  },
  {
   "cell_type": "code",
   "execution_count": 19,
   "metadata": {
    "collapsed": true
   },
   "outputs": [],
   "source": [
    "# Write your code here\n",
    "\n",
    "provinces = dict()\n",
    "provinces['Ontario'] = 'ON'\n",
    "provinces['Quebec'] = 'QC'\n",
    "provinces['British Columbia'] = 'BC'\n",
    "provinces['Alberta'] = 'AB'\n",
    "\n",
    "capitals = dict()\n",
    "capitals['ON'] = 'Toronto'\n",
    "capitals['QC'] = 'Quebec City'\n",
    "capitals['BC'] = 'Victoria'\n",
    "capitals['AB'] = 'Edmonton'\n"
   ]
  },
  {
   "cell_type": "code",
   "execution_count": 20,
   "metadata": {},
   "outputs": [
    {
     "data": {
      "text/plain": [
       "[('Ontario', 'ON'),\n",
       " ('Quebec', 'QC'),\n",
       " ('British Columbia', 'BC'),\n",
       " ('Alberta', 'AB')]"
      ]
     },
     "execution_count": 20,
     "metadata": {},
     "output_type": "execute_result"
    }
   ],
   "source": [
    "list(provinces.items())"
   ]
  },
  {
   "cell_type": "code",
   "execution_count": 21,
   "metadata": {},
   "outputs": [
    {
     "name": "stdout",
     "output_type": "stream",
     "text": [
      "The capital of Ontario is Toronto\n",
      "The capital of Quebec is Quebec City\n",
      "The capital of British Columbia is Victoria\n",
      "The capital of Alberta is Edmonton\n"
     ]
    }
   ],
   "source": [
    "# Adding provinces and capitals to the dictionaries\n",
    "\n",
    "for key,value in provinces.items():\n",
    "    print ('The capital of', key, 'is', capitals[value])"
   ]
  },
  {
   "cell_type": "markdown",
   "metadata": {},
   "source": [
    "### Part 3 - Greatest Common Divisor (GCD)"
   ]
  },
  {
   "cell_type": "markdown",
   "metadata": {},
   "source": [
    "The Greatest Common Divisor (GCD) of <i>a</i> and <i>b</i> is the largest number that divides both of them with no remainder. You can read about GCD here: https://en.wikipedia.org/wiki/Greatest_common_divisor\n",
    "\n",
    "Write a function called <i><b>my_gcd()</b></i> that takes parameters <i>a</i> and <i>b</i> and returns their greatest common divisor.\n",
    "\n",
    "Create your own implementation of the alorithm and test your code by comparing the output of your function to  Python's gcd() function from <i>math</i> package.\n",
    "\n",
    "Test the code with the following inputs: (39, 91), (20, 30) and (40,40). Explain the logic of your function.\n",
    "\n",
    "Hint: You might want to review Think Python book, chapters 5 and 6, sections that talk about recursive functions."
   ]
  },
  {
   "cell_type": "code",
   "execution_count": 22,
   "metadata": {},
   "outputs": [
    {
     "data": {
      "text/plain": [
       "13"
      ]
     },
     "execution_count": 22,
     "metadata": {},
     "output_type": "execute_result"
    }
   ],
   "source": [
    "# Write your code here\n",
    "\n",
    "def my_gcd(a, b):\n",
    "    if b == 0:\n",
    "        return a\n",
    "    # this instance is the base instance for the GCD, where one of the integers is 0, the other\n",
    "    # integer will be the GCD by default\n",
    "\n",
    "    else:\n",
    "        return my_gcd(b, a%b)\n",
    "    # in the recursive instance, you reduce 'b' to zero by dividing into the remainder\n",
    "    # once you've reduced it to zero, it will return 'a' at whatever value it is\n",
    "\n",
    "my_gcd(39,91)"
   ]
  },
  {
   "cell_type": "code",
   "execution_count": 23,
   "metadata": {},
   "outputs": [
    {
     "data": {
      "text/plain": [
       "10"
      ]
     },
     "execution_count": 23,
     "metadata": {},
     "output_type": "execute_result"
    }
   ],
   "source": [
    "my_gcd(20,30)"
   ]
  },
  {
   "cell_type": "code",
   "execution_count": 24,
   "metadata": {},
   "outputs": [
    {
     "data": {
      "text/plain": [
       "40"
      ]
     },
     "execution_count": 24,
     "metadata": {},
     "output_type": "execute_result"
    }
   ],
   "source": [
    "my_gcd(40,40)"
   ]
  },
  {
   "cell_type": "code",
   "execution_count": 25,
   "metadata": {},
   "outputs": [
    {
     "data": {
      "text/plain": [
       "13"
      ]
     },
     "execution_count": 25,
     "metadata": {},
     "output_type": "execute_result"
    }
   ],
   "source": [
    "# Test your code by comparing to the Python build-in function:\n",
    "from math import gcd\n",
    "gcd(39,91)"
   ]
  },
  {
   "cell_type": "code",
   "execution_count": 26,
   "metadata": {},
   "outputs": [
    {
     "data": {
      "text/plain": [
       "10"
      ]
     },
     "execution_count": 26,
     "metadata": {},
     "output_type": "execute_result"
    }
   ],
   "source": [
    "gcd(20,30)"
   ]
  },
  {
   "cell_type": "code",
   "execution_count": 27,
   "metadata": {},
   "outputs": [
    {
     "data": {
      "text/plain": [
       "40"
      ]
     },
     "execution_count": 27,
     "metadata": {},
     "output_type": "execute_result"
    }
   ],
   "source": [
    "gcd(40,40)"
   ]
  },
  {
   "cell_type": "code",
   "execution_count": null,
   "metadata": {
    "collapsed": true
   },
   "outputs": [],
   "source": []
  }
 ],
 "metadata": {
  "kernelspec": {
   "display_name": "Python 3",
   "language": "python",
   "name": "python3"
  },
  "language_info": {
   "codemirror_mode": {
    "name": "ipython",
    "version": 3
   },
   "file_extension": ".py",
   "mimetype": "text/x-python",
   "name": "python",
   "nbconvert_exporter": "python",
   "pygments_lexer": "ipython3",
   "version": "3.6.3"
  }
 },
 "nbformat": 4,
 "nbformat_minor": 2
}
